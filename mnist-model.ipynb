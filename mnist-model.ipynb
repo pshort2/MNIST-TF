{
 "cells": [
  {
   "cell_type": "code",
   "execution_count": 1,
   "metadata": {
    "_cell_guid": "b1076dfc-b9ad-4769-8c92-a6c4dae69d19",
    "_uuid": "8f2839f25d086af736a60e9eeb907d3b93b6e0e5",
    "execution": {
     "iopub.execute_input": "2024-02-23T14:14:54.574960Z",
     "iopub.status.busy": "2024-02-23T14:14:54.574389Z",
     "iopub.status.idle": "2024-02-23T14:15:14.925510Z",
     "shell.execute_reply": "2024-02-23T14:15:14.923849Z",
     "shell.execute_reply.started": "2024-02-23T14:14:54.574911Z"
    }
   },
   "outputs": [
    {
     "name": "stderr",
     "output_type": "stream",
     "text": [
      "2024-02-23 14:14:58.785577: E external/local_xla/xla/stream_executor/cuda/cuda_dnn.cc:9261] Unable to register cuDNN factory: Attempting to register factory for plugin cuDNN when one has already been registered\n",
      "2024-02-23 14:14:58.785781: E external/local_xla/xla/stream_executor/cuda/cuda_fft.cc:607] Unable to register cuFFT factory: Attempting to register factory for plugin cuFFT when one has already been registered\n",
      "2024-02-23 14:14:58.983675: E external/local_xla/xla/stream_executor/cuda/cuda_blas.cc:1515] Unable to register cuBLAS factory: Attempting to register factory for plugin cuBLAS when one has already been registered\n"
     ]
    }
   ],
   "source": [
    "import numpy as np\n",
    "import pandas as pd\n",
    "import matplotlib.pyplot as plt\n",
    "\n",
    "from tensorflow import keras\n",
    "from tensorflow.keras import layers\n",
    "from tensorflow.keras import callbacks\n",
    "\n",
    "from sklearn.model_selection import train_test_split"
   ]
  },
  {
   "cell_type": "code",
   "execution_count": 2,
   "metadata": {
    "execution": {
     "iopub.execute_input": "2024-02-23T14:15:14.929294Z",
     "iopub.status.busy": "2024-02-23T14:15:14.928233Z",
     "iopub.status.idle": "2024-02-23T14:15:23.400348Z",
     "shell.execute_reply": "2024-02-23T14:15:23.399092Z",
     "shell.execute_reply.started": "2024-02-23T14:15:14.929249Z"
    }
   },
   "outputs": [],
   "source": [
    "# Import the MNIST data-set\n",
    "# This data has alreay been converted to CSV and split into test and training sets, \n",
    "# to get more control over this we we will merge these sets then split them again later down the line\n",
    "mnist_a= pd.read_csv('mnist/mnist_train.csv')\n",
    "mnist_b = pd.read_csv('mnist/mnist_test.csv')\n",
    "mnist = pd.concat([mnist_a, mnist_b])"
   ]
  },
  {
   "cell_type": "code",
   "execution_count": 3,
   "metadata": {
    "execution": {
     "iopub.execute_input": "2024-02-23T14:15:23.403434Z",
     "iopub.status.busy": "2024-02-23T14:15:23.402075Z",
     "iopub.status.idle": "2024-02-23T14:15:23.438602Z",
     "shell.execute_reply": "2024-02-23T14:15:23.437048Z",
     "shell.execute_reply.started": "2024-02-23T14:15:23.403392Z"
    }
   },
   "outputs": [
    {
     "data": {
      "text/html": [
       "<div>\n",
       "<style scoped>\n",
       "    .dataframe tbody tr th:only-of-type {\n",
       "        vertical-align: middle;\n",
       "    }\n",
       "\n",
       "    .dataframe tbody tr th {\n",
       "        vertical-align: top;\n",
       "    }\n",
       "\n",
       "    .dataframe thead th {\n",
       "        text-align: right;\n",
       "    }\n",
       "</style>\n",
       "<table border=\"1\" class=\"dataframe\">\n",
       "  <thead>\n",
       "    <tr style=\"text-align: right;\">\n",
       "      <th></th>\n",
       "      <th>label</th>\n",
       "      <th>1x1</th>\n",
       "      <th>1x2</th>\n",
       "      <th>1x3</th>\n",
       "      <th>1x4</th>\n",
       "      <th>1x5</th>\n",
       "      <th>1x6</th>\n",
       "      <th>1x7</th>\n",
       "      <th>1x8</th>\n",
       "      <th>1x9</th>\n",
       "      <th>...</th>\n",
       "      <th>28x19</th>\n",
       "      <th>28x20</th>\n",
       "      <th>28x21</th>\n",
       "      <th>28x22</th>\n",
       "      <th>28x23</th>\n",
       "      <th>28x24</th>\n",
       "      <th>28x25</th>\n",
       "      <th>28x26</th>\n",
       "      <th>28x27</th>\n",
       "      <th>28x28</th>\n",
       "    </tr>\n",
       "  </thead>\n",
       "  <tbody>\n",
       "    <tr>\n",
       "      <th>0</th>\n",
       "      <td>5</td>\n",
       "      <td>0</td>\n",
       "      <td>0</td>\n",
       "      <td>0</td>\n",
       "      <td>0</td>\n",
       "      <td>0</td>\n",
       "      <td>0</td>\n",
       "      <td>0</td>\n",
       "      <td>0</td>\n",
       "      <td>0</td>\n",
       "      <td>...</td>\n",
       "      <td>0</td>\n",
       "      <td>0</td>\n",
       "      <td>0</td>\n",
       "      <td>0</td>\n",
       "      <td>0</td>\n",
       "      <td>0</td>\n",
       "      <td>0</td>\n",
       "      <td>0</td>\n",
       "      <td>0</td>\n",
       "      <td>0</td>\n",
       "    </tr>\n",
       "    <tr>\n",
       "      <th>1</th>\n",
       "      <td>0</td>\n",
       "      <td>0</td>\n",
       "      <td>0</td>\n",
       "      <td>0</td>\n",
       "      <td>0</td>\n",
       "      <td>0</td>\n",
       "      <td>0</td>\n",
       "      <td>0</td>\n",
       "      <td>0</td>\n",
       "      <td>0</td>\n",
       "      <td>...</td>\n",
       "      <td>0</td>\n",
       "      <td>0</td>\n",
       "      <td>0</td>\n",
       "      <td>0</td>\n",
       "      <td>0</td>\n",
       "      <td>0</td>\n",
       "      <td>0</td>\n",
       "      <td>0</td>\n",
       "      <td>0</td>\n",
       "      <td>0</td>\n",
       "    </tr>\n",
       "    <tr>\n",
       "      <th>2</th>\n",
       "      <td>4</td>\n",
       "      <td>0</td>\n",
       "      <td>0</td>\n",
       "      <td>0</td>\n",
       "      <td>0</td>\n",
       "      <td>0</td>\n",
       "      <td>0</td>\n",
       "      <td>0</td>\n",
       "      <td>0</td>\n",
       "      <td>0</td>\n",
       "      <td>...</td>\n",
       "      <td>0</td>\n",
       "      <td>0</td>\n",
       "      <td>0</td>\n",
       "      <td>0</td>\n",
       "      <td>0</td>\n",
       "      <td>0</td>\n",
       "      <td>0</td>\n",
       "      <td>0</td>\n",
       "      <td>0</td>\n",
       "      <td>0</td>\n",
       "    </tr>\n",
       "    <tr>\n",
       "      <th>3</th>\n",
       "      <td>1</td>\n",
       "      <td>0</td>\n",
       "      <td>0</td>\n",
       "      <td>0</td>\n",
       "      <td>0</td>\n",
       "      <td>0</td>\n",
       "      <td>0</td>\n",
       "      <td>0</td>\n",
       "      <td>0</td>\n",
       "      <td>0</td>\n",
       "      <td>...</td>\n",
       "      <td>0</td>\n",
       "      <td>0</td>\n",
       "      <td>0</td>\n",
       "      <td>0</td>\n",
       "      <td>0</td>\n",
       "      <td>0</td>\n",
       "      <td>0</td>\n",
       "      <td>0</td>\n",
       "      <td>0</td>\n",
       "      <td>0</td>\n",
       "    </tr>\n",
       "    <tr>\n",
       "      <th>4</th>\n",
       "      <td>9</td>\n",
       "      <td>0</td>\n",
       "      <td>0</td>\n",
       "      <td>0</td>\n",
       "      <td>0</td>\n",
       "      <td>0</td>\n",
       "      <td>0</td>\n",
       "      <td>0</td>\n",
       "      <td>0</td>\n",
       "      <td>0</td>\n",
       "      <td>...</td>\n",
       "      <td>0</td>\n",
       "      <td>0</td>\n",
       "      <td>0</td>\n",
       "      <td>0</td>\n",
       "      <td>0</td>\n",
       "      <td>0</td>\n",
       "      <td>0</td>\n",
       "      <td>0</td>\n",
       "      <td>0</td>\n",
       "      <td>0</td>\n",
       "    </tr>\n",
       "  </tbody>\n",
       "</table>\n",
       "<p>5 rows × 785 columns</p>\n",
       "</div>"
      ],
      "text/plain": [
       "   label  1x1  1x2  1x3  1x4  1x5  1x6  1x7  1x8  1x9  ...  28x19  28x20  \\\n",
       "0      5    0    0    0    0    0    0    0    0    0  ...      0      0   \n",
       "1      0    0    0    0    0    0    0    0    0    0  ...      0      0   \n",
       "2      4    0    0    0    0    0    0    0    0    0  ...      0      0   \n",
       "3      1    0    0    0    0    0    0    0    0    0  ...      0      0   \n",
       "4      9    0    0    0    0    0    0    0    0    0  ...      0      0   \n",
       "\n",
       "   28x21  28x22  28x23  28x24  28x25  28x26  28x27  28x28  \n",
       "0      0      0      0      0      0      0      0      0  \n",
       "1      0      0      0      0      0      0      0      0  \n",
       "2      0      0      0      0      0      0      0      0  \n",
       "3      0      0      0      0      0      0      0      0  \n",
       "4      0      0      0      0      0      0      0      0  \n",
       "\n",
       "[5 rows x 785 columns]"
      ]
     },
     "execution_count": 3,
     "metadata": {},
     "output_type": "execute_result"
    }
   ],
   "source": [
    "# Quick look at the data\n",
    "mnist.head()"
   ]
  },
  {
   "cell_type": "code",
   "execution_count": 4,
   "metadata": {
    "execution": {
     "iopub.execute_input": "2024-02-23T14:15:23.443598Z",
     "iopub.status.busy": "2024-02-23T14:15:23.442189Z",
     "iopub.status.idle": "2024-02-23T14:15:27.156785Z",
     "shell.execute_reply": "2024-02-23T14:15:27.155178Z",
     "shell.execute_reply.started": "2024-02-23T14:15:23.443546Z"
    }
   },
   "outputs": [
    {
     "name": "stdout",
     "output_type": "stream",
     "text": [
      "(70000, 28, 28)\n"
     ]
    }
   ],
   "source": [
    "# Separate labels and one-hot-encode them\n",
    "X = mnist\n",
    "y = X.pop('label')\n",
    "y =pd.get_dummies(y)\n",
    "\n",
    "X = X.to_numpy()\n",
    "X = X.reshape(70000, 28, 28,)\n",
    "print(X.shape)\n",
    "#plt.imshow(X[2], interpolation='none')\n",
    "#plt.show()\n",
    "\n",
    "#Separate out training and test/validation data\n",
    "X_train, X_v, y_train, y_v = \\\n",
    "    train_test_split(X, y, stratify=y, train_size=0.70)\n",
    "\n",
    "X_val, X_test, y_val, y_test = \\\n",
    "    train_test_split(X_v, y_v, stratify=y_v, train_size=0.66)"
   ]
  },
  {
   "cell_type": "code",
   "execution_count": 5,
   "metadata": {
    "execution": {
     "iopub.execute_input": "2024-02-23T14:15:27.159688Z",
     "iopub.status.busy": "2024-02-23T14:15:27.158773Z",
     "iopub.status.idle": "2024-02-23T14:15:27.411016Z",
     "shell.execute_reply": "2024-02-23T14:15:27.409682Z",
     "shell.execute_reply.started": "2024-02-23T14:15:27.159642Z"
    }
   },
   "outputs": [],
   "source": [
    "# Set up the model\n",
    "#input_shape = [X_train.shape[1]]\n",
    "\n",
    "model = keras.Sequential([\n",
    "    layers.BatchNormalization(input_shape=(28,28,1)),\n",
    "    \n",
    "    # CNN\n",
    "    layers.Conv2D(filters=64, activation='relu', kernel_size=(3,3)),\n",
    "    layers.MaxPooling2D((2,2)),\n",
    "    \n",
    "    layers.Conv2D(filters=32, activation='relu', kernel_size=(3,3)),\n",
    "    layers.MaxPooling2D((2,2)),\n",
    "    \n",
    "    # Dense\n",
    "    layers.Flatten(),\n",
    "    layers.Dense(units=64, activation='relu'),\n",
    "    layers.BatchNormalization(),\n",
    "    layers.Dropout(0.3),\n",
    "    \n",
    "    layers.Dense(units=10, activation='softmax')\n",
    "])"
   ]
  },
  {
   "cell_type": "code",
   "execution_count": 6,
   "metadata": {
    "execution": {
     "iopub.execute_input": "2024-02-23T14:15:27.412921Z",
     "iopub.status.busy": "2024-02-23T14:15:27.412532Z",
     "iopub.status.idle": "2024-02-23T14:15:27.438635Z",
     "shell.execute_reply": "2024-02-23T14:15:27.437254Z",
     "shell.execute_reply.started": "2024-02-23T14:15:27.412889Z"
    }
   },
   "outputs": [],
   "source": [
    "# Compile the model\n",
    "model.compile(\n",
    "    optimizer='adam',\n",
    "    loss='categorical_crossentropy',\n",
    "    metrics=['acc'],\n",
    ")\n",
    "\n",
    "# Define early stopping callback\n",
    "early_stopping = callbacks.EarlyStopping(\n",
    "    min_delta = 0.0001,\n",
    "    patience = 10,\n",
    "    restore_best_weights = True\n",
    ")"
   ]
  },
  {
   "cell_type": "code",
   "execution_count": 7,
   "metadata": {
    "execution": {
     "iopub.execute_input": "2024-02-23T14:15:27.440706Z",
     "iopub.status.busy": "2024-02-23T14:15:27.440345Z",
     "iopub.status.idle": "2024-02-23T14:25:52.317882Z",
     "shell.execute_reply": "2024-02-23T14:25:52.316709Z",
     "shell.execute_reply.started": "2024-02-23T14:15:27.440680Z"
    }
   },
   "outputs": [
    {
     "name": "stdout",
     "output_type": "stream",
     "text": [
      "Epoch 1/50\n",
      "196/196 [==============================] - 36s 174ms/step - loss: 0.2941 - acc: 0.9202 - val_loss: 0.1748 - val_acc: 0.9746\n",
      "Epoch 2/50\n",
      "196/196 [==============================] - 33s 169ms/step - loss: 0.0830 - acc: 0.9773 - val_loss: 0.0656 - val_acc: 0.9820\n",
      "Epoch 3/50\n",
      "196/196 [==============================] - 33s 166ms/step - loss: 0.0571 - acc: 0.9832 - val_loss: 0.0528 - val_acc: 0.9839\n",
      "Epoch 4/50\n",
      "196/196 [==============================] - 32s 165ms/step - loss: 0.0442 - acc: 0.9870 - val_loss: 0.0554 - val_acc: 0.9834\n",
      "Epoch 5/50\n",
      "196/196 [==============================] - 32s 163ms/step - loss: 0.0371 - acc: 0.9889 - val_loss: 0.1057 - val_acc: 0.9690\n",
      "Epoch 6/50\n",
      "196/196 [==============================] - 33s 168ms/step - loss: 0.0312 - acc: 0.9902 - val_loss: 0.0456 - val_acc: 0.9865\n",
      "Epoch 7/50\n",
      "196/196 [==============================] - 32s 164ms/step - loss: 0.0272 - acc: 0.9919 - val_loss: 0.0438 - val_acc: 0.9874\n",
      "Epoch 8/50\n",
      "196/196 [==============================] - 31s 160ms/step - loss: 0.0251 - acc: 0.9926 - val_loss: 0.0398 - val_acc: 0.9885\n",
      "Epoch 9/50\n",
      "196/196 [==============================] - 31s 160ms/step - loss: 0.0198 - acc: 0.9946 - val_loss: 0.0451 - val_acc: 0.9874\n",
      "Epoch 10/50\n",
      "196/196 [==============================] - 32s 161ms/step - loss: 0.0161 - acc: 0.9954 - val_loss: 0.0434 - val_acc: 0.9876\n",
      "Epoch 11/50\n",
      "196/196 [==============================] - 32s 161ms/step - loss: 0.0181 - acc: 0.9944 - val_loss: 0.0486 - val_acc: 0.9870\n",
      "Epoch 12/50\n",
      "196/196 [==============================] - 32s 162ms/step - loss: 0.0152 - acc: 0.9951 - val_loss: 0.0456 - val_acc: 0.9872\n",
      "Epoch 13/50\n",
      "196/196 [==============================] - 32s 162ms/step - loss: 0.0140 - acc: 0.9955 - val_loss: 0.0442 - val_acc: 0.9889\n",
      "Epoch 14/50\n",
      "196/196 [==============================] - 32s 162ms/step - loss: 0.0118 - acc: 0.9961 - val_loss: 0.0511 - val_acc: 0.9864\n",
      "Epoch 15/50\n",
      "196/196 [==============================] - 33s 168ms/step - loss: 0.0099 - acc: 0.9970 - val_loss: 0.0482 - val_acc: 0.9876\n",
      "Epoch 16/50\n",
      "196/196 [==============================] - 33s 168ms/step - loss: 0.0116 - acc: 0.9960 - val_loss: 0.0491 - val_acc: 0.9870\n",
      "Epoch 17/50\n",
      "196/196 [==============================] - 33s 169ms/step - loss: 0.0095 - acc: 0.9969 - val_loss: 0.0466 - val_acc: 0.9885\n",
      "Epoch 18/50\n",
      "196/196 [==============================] - 33s 167ms/step - loss: 0.0090 - acc: 0.9973 - val_loss: 0.0408 - val_acc: 0.9897\n"
     ]
    },
    {
     "data": {
      "text/plain": [
       "<Axes: title={'center': 'Accuracy'}>"
      ]
     },
     "execution_count": 7,
     "metadata": {},
     "output_type": "execute_result"
    },
    {
     "data": {
      "image/png": "[encoded data removed]",
      "text/plain": [
       "<Figure size 640x480 with 1 Axes>"
      ]
     },
     "metadata": {},
     "output_type": "display_data"
    },
    {
     "data": {
      "image/png": "[encoded data removed]",
      "text/plain": [
       "<Figure size 640x480 with 1 Axes>"
      ]
     },
     "metadata": {},
     "output_type": "display_data"
    }
   ],
   "source": [
    "# Train the model\n",
    "history = model.fit(\n",
    "    X_train, y_train, \n",
    "    epochs=50, \n",
    "    batch_size=250,\n",
    "    validation_data=(X_val, y_val),\n",
    "    callbacks=[early_stopping],\n",
    ")\n",
    "\n",
    "history_df = pd.DataFrame(history.history)\n",
    "history_df.loc[:, ['loss', 'val_loss']].plot(title=\"Cross-entropy\")\n",
    "history_df.loc[:, ['acc', 'val_acc']].plot(title=\"Accuracy\")"
   ]
  },
  {
   "cell_type": "markdown",
   "metadata": {},
   "source": [
    "Note: Using a CNN shows a significant improvement in loss and accuracy."
   ]
  },
  {
   "cell_type": "code",
   "execution_count": 9,
   "metadata": {
    "execution": {
     "iopub.execute_input": "2024-02-23T14:26:53.262873Z",
     "iopub.status.busy": "2024-02-23T14:26:53.262423Z",
     "iopub.status.idle": "2024-02-23T14:26:55.150219Z",
     "shell.execute_reply": "2024-02-23T14:26:55.148652Z",
     "shell.execute_reply.started": "2024-02-23T14:26:53.262840Z"
    }
   },
   "outputs": [
    {
     "name": "stdout",
     "output_type": "stream",
     "text": [
      "224/224 [==============================] - 2s 7ms/step\n",
      "predicted value: [5]\n",
      "true value: [5]\n"
     ]
    }
   ],
   "source": [
    "# Let's see the model performs on some test data\n",
    "test_idx = 6\n",
    "y_predicted = model.predict(X_test)\n",
    "print('predicted value:', np.where(y_predicted[test_idx] == np.max(y_predicted[test_idx]))[0] )\n",
    "\n",
    "y_example = np.asarray(y_test)\n",
    "print('true value:', np.where(y_example[test_idx] == 1)[0] )"
   ]
  }
 ],
 "metadata": {
  "kaggle": {
   "accelerator": "none",
   "dataSources": [
    {
     "datasetId": 27352,
     "sourceId": 34877,
     "sourceType": "datasetVersion"
    }
   ],
   "dockerImageVersionId": 30646,
   "isGpuEnabled": false,
   "isInternetEnabled": true,
   "language": "python",
   "sourceType": "notebook"
  },
  "kernelspec": {
   "display_name": "Python 3 (ipykernel)",
   "language": "python",
   "name": "python3"
  },
  "language_info": {
   "codemirror_mode": {
    "name": "ipython",
    "version": 3
   },
   "file_extension": ".py",
   "mimetype": "text/x-python",
   "name": "python",
   "nbconvert_exporter": "python",
   "pygments_lexer": "ipython3",
   "version": "3.7.6"
  }
 },
 "nbformat": 4,
 "nbformat_minor": 4
}
