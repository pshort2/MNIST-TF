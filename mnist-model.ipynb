{
 "cells": [
  {
   "cell_type": "code",
   "execution_count": 22,
   "metadata": {
    "_cell_guid": "b1076dfc-b9ad-4769-8c92-a6c4dae69d19",
    "_uuid": "8f2839f25d086af736a60e9eeb907d3b93b6e0e5",
    "execution": {
     "iopub.execute_input": "2024-02-18T14:02:02.109102Z",
     "iopub.status.busy": "2024-02-18T14:02:02.108751Z",
     "iopub.status.idle": "2024-02-18T14:02:02.115206Z",
     "shell.execute_reply": "2024-02-18T14:02:02.114063Z",
     "shell.execute_reply.started": "2024-02-18T14:02:02.109079Z"
    }
   },
   "outputs": [],
   "source": [
    "import numpy as np\n",
    "import pandas as pd\n",
    "\n",
    "from tensorflow import keras\n",
    "from tensorflow.keras import layers\n",
    "from tensorflow.keras import callbacks\n",
    "\n",
    "from sklearn.model_selection import train_test_split"
   ]
  },
  {
   "cell_type": "code",
   "execution_count": 28,
   "metadata": {
    "execution": {
     "iopub.execute_input": "2024-02-18T14:09:18.181640Z",
     "iopub.status.busy": "2024-02-18T14:09:18.181285Z",
     "iopub.status.idle": "2024-02-18T14:09:20.945852Z",
     "shell.execute_reply": "2024-02-18T14:09:20.944701Z",
     "shell.execute_reply.started": "2024-02-18T14:09:18.181617Z"
    }
   },
   "outputs": [],
   "source": [
    "# Import the MNIST data-set\n",
    "# This data has alreay been converted to CSV and split into test and training sets, \n",
    "# to get more control over this we we will merge these sets then split them again later down the line\n",
    "mnist_a= pd.read_csv('mnist/mnist_train.csv')\n",
    "mnist_b = pd.read_csv('mnist/mnist_test.csv')\n",
    "mnist = pd.concat([mnist_a, mnist_b])"
   ]
  },
  {
   "cell_type": "code",
   "execution_count": 16,
   "metadata": {
    "execution": {
     "iopub.execute_input": "2024-02-18T13:48:18.834465Z",
     "iopub.status.busy": "2024-02-18T13:48:18.834194Z",
     "iopub.status.idle": "2024-02-18T13:48:18.851308Z",
     "shell.execute_reply": "2024-02-18T13:48:18.850054Z",
     "shell.execute_reply.started": "2024-02-18T13:48:18.834442Z"
    }
   },
   "outputs": [
    {
     "data": {
      "text/html": [
       "<div>\n",
       "<style scoped>\n",
       "    .dataframe tbody tr th:only-of-type {\n",
       "        vertical-align: middle;\n",
       "    }\n",
       "\n",
       "    .dataframe tbody tr th {\n",
       "        vertical-align: top;\n",
       "    }\n",
       "\n",
       "    .dataframe thead th {\n",
       "        text-align: right;\n",
       "    }\n",
       "</style>\n",
       "<table border=\"1\" class=\"dataframe\">\n",
       "  <thead>\n",
       "    <tr style=\"text-align: right;\">\n",
       "      <th></th>\n",
       "      <th>label</th>\n",
       "      <th>1x1</th>\n",
       "      <th>1x2</th>\n",
       "      <th>1x3</th>\n",
       "      <th>1x4</th>\n",
       "      <th>1x5</th>\n",
       "      <th>1x6</th>\n",
       "      <th>1x7</th>\n",
       "      <th>1x8</th>\n",
       "      <th>1x9</th>\n",
       "      <th>...</th>\n",
       "      <th>28x19</th>\n",
       "      <th>28x20</th>\n",
       "      <th>28x21</th>\n",
       "      <th>28x22</th>\n",
       "      <th>28x23</th>\n",
       "      <th>28x24</th>\n",
       "      <th>28x25</th>\n",
       "      <th>28x26</th>\n",
       "      <th>28x27</th>\n",
       "      <th>28x28</th>\n",
       "    </tr>\n",
       "  </thead>\n",
       "  <tbody>\n",
       "    <tr>\n",
       "      <th>0</th>\n",
       "      <td>5</td>\n",
       "      <td>0</td>\n",
       "      <td>0</td>\n",
       "      <td>0</td>\n",
       "      <td>0</td>\n",
       "      <td>0</td>\n",
       "      <td>0</td>\n",
       "      <td>0</td>\n",
       "      <td>0</td>\n",
       "      <td>0</td>\n",
       "      <td>...</td>\n",
       "      <td>0</td>\n",
       "      <td>0</td>\n",
       "      <td>0</td>\n",
       "      <td>0</td>\n",
       "      <td>0</td>\n",
       "      <td>0</td>\n",
       "      <td>0</td>\n",
       "      <td>0</td>\n",
       "      <td>0</td>\n",
       "      <td>0</td>\n",
       "    </tr>\n",
       "    <tr>\n",
       "      <th>1</th>\n",
       "      <td>0</td>\n",
       "      <td>0</td>\n",
       "      <td>0</td>\n",
       "      <td>0</td>\n",
       "      <td>0</td>\n",
       "      <td>0</td>\n",
       "      <td>0</td>\n",
       "      <td>0</td>\n",
       "      <td>0</td>\n",
       "      <td>0</td>\n",
       "      <td>...</td>\n",
       "      <td>0</td>\n",
       "      <td>0</td>\n",
       "      <td>0</td>\n",
       "      <td>0</td>\n",
       "      <td>0</td>\n",
       "      <td>0</td>\n",
       "      <td>0</td>\n",
       "      <td>0</td>\n",
       "      <td>0</td>\n",
       "      <td>0</td>\n",
       "    </tr>\n",
       "    <tr>\n",
       "      <th>2</th>\n",
       "      <td>4</td>\n",
       "      <td>0</td>\n",
       "      <td>0</td>\n",
       "      <td>0</td>\n",
       "      <td>0</td>\n",
       "      <td>0</td>\n",
       "      <td>0</td>\n",
       "      <td>0</td>\n",
       "      <td>0</td>\n",
       "      <td>0</td>\n",
       "      <td>...</td>\n",
       "      <td>0</td>\n",
       "      <td>0</td>\n",
       "      <td>0</td>\n",
       "      <td>0</td>\n",
       "      <td>0</td>\n",
       "      <td>0</td>\n",
       "      <td>0</td>\n",
       "      <td>0</td>\n",
       "      <td>0</td>\n",
       "      <td>0</td>\n",
       "    </tr>\n",
       "    <tr>\n",
       "      <th>3</th>\n",
       "      <td>1</td>\n",
       "      <td>0</td>\n",
       "      <td>0</td>\n",
       "      <td>0</td>\n",
       "      <td>0</td>\n",
       "      <td>0</td>\n",
       "      <td>0</td>\n",
       "      <td>0</td>\n",
       "      <td>0</td>\n",
       "      <td>0</td>\n",
       "      <td>...</td>\n",
       "      <td>0</td>\n",
       "      <td>0</td>\n",
       "      <td>0</td>\n",
       "      <td>0</td>\n",
       "      <td>0</td>\n",
       "      <td>0</td>\n",
       "      <td>0</td>\n",
       "      <td>0</td>\n",
       "      <td>0</td>\n",
       "      <td>0</td>\n",
       "    </tr>\n",
       "    <tr>\n",
       "      <th>4</th>\n",
       "      <td>9</td>\n",
       "      <td>0</td>\n",
       "      <td>0</td>\n",
       "      <td>0</td>\n",
       "      <td>0</td>\n",
       "      <td>0</td>\n",
       "      <td>0</td>\n",
       "      <td>0</td>\n",
       "      <td>0</td>\n",
       "      <td>0</td>\n",
       "      <td>...</td>\n",
       "      <td>0</td>\n",
       "      <td>0</td>\n",
       "      <td>0</td>\n",
       "      <td>0</td>\n",
       "      <td>0</td>\n",
       "      <td>0</td>\n",
       "      <td>0</td>\n",
       "      <td>0</td>\n",
       "      <td>0</td>\n",
       "      <td>0</td>\n",
       "    </tr>\n",
       "  </tbody>\n",
       "</table>\n",
       "<p>5 rows × 785 columns</p>\n",
       "</div>"
      ],
      "text/plain": [
       "   label  1x1  1x2  1x3  1x4  1x5  1x6  1x7  1x8  1x9  ...  28x19  28x20  \\\n",
       "0      5    0    0    0    0    0    0    0    0    0  ...      0      0   \n",
       "1      0    0    0    0    0    0    0    0    0    0  ...      0      0   \n",
       "2      4    0    0    0    0    0    0    0    0    0  ...      0      0   \n",
       "3      1    0    0    0    0    0    0    0    0    0  ...      0      0   \n",
       "4      9    0    0    0    0    0    0    0    0    0  ...      0      0   \n",
       "\n",
       "   28x21  28x22  28x23  28x24  28x25  28x26  28x27  28x28  \n",
       "0      0      0      0      0      0      0      0      0  \n",
       "1      0      0      0      0      0      0      0      0  \n",
       "2      0      0      0      0      0      0      0      0  \n",
       "3      0      0      0      0      0      0      0      0  \n",
       "4      0      0      0      0      0      0      0      0  \n",
       "\n",
       "[5 rows x 785 columns]"
      ]
     },
     "execution_count": 16,
     "metadata": {},
     "output_type": "execute_result"
    }
   ],
   "source": [
    "# Quick look at the data\n",
    "mnist.head()"
   ]
  },
  {
   "cell_type": "code",
   "execution_count": 29,
   "metadata": {
    "execution": {
     "iopub.execute_input": "2024-02-18T14:09:27.008994Z",
     "iopub.status.busy": "2024-02-18T14:09:27.008587Z",
     "iopub.status.idle": "2024-02-18T14:09:28.895693Z",
     "shell.execute_reply": "2024-02-18T14:09:28.894317Z",
     "shell.execute_reply.started": "2024-02-18T14:09:27.008965Z"
    }
   },
   "outputs": [],
   "source": [
    "# Separate labels and one-hot-encode them\n",
    "X = mnist\n",
    "y = X.pop('label')\n",
    "y =pd.get_dummies(y)\n",
    "\n",
    "y.head()\n",
    "\n",
    "#Separate out training and test/validation data\n",
    "X_train, X_v, y_train, y_v = \\\n",
    "    train_test_split(X, y, stratify=y, train_size=0.70)\n",
    "\n",
    "X_val, X_test, y_val, y_test = \\\n",
    "    train_test_split(X_v, y_v, stratify=y_v, train_size=0.66)"
   ]
  },
  {
   "cell_type": "code",
   "execution_count": 37,
   "metadata": {
    "execution": {
     "iopub.execute_input": "2024-02-18T14:19:39.909838Z",
     "iopub.status.busy": "2024-02-18T14:19:39.909464Z",
     "iopub.status.idle": "2024-02-18T14:19:40.075797Z",
     "shell.execute_reply": "2024-02-18T14:19:40.074415Z",
     "shell.execute_reply.started": "2024-02-18T14:19:39.909810Z"
    }
   },
   "outputs": [],
   "source": [
    "# Set up the model\n",
    "input_shape = [X_train.shape[1]]\n",
    "\n",
    "model = keras.Sequential([\n",
    "    layers.BatchNormalization(input_shape=input_shape),\n",
    "    \n",
    "    layers.Dense(units=512, activation='relu', input_shape=input_shape),\n",
    "    layers.BatchNormalization(),\n",
    "    layers.Dropout(0.3),\n",
    "    \n",
    "    layers.Dense(units=256, activation='relu', input_shape=input_shape),\n",
    "    layers.BatchNormalization(),\n",
    "    layers.Dropout(0.3),\n",
    "    \n",
    "    layers.Dense(units=128, activation='relu'),\n",
    "    layers.BatchNormalization(),\n",
    "    layers.Dropout(0.3),\n",
    "    \n",
    "    layers.Dense(units=10, activation='softmax')\n",
    "])"
   ]
  },
  {
   "cell_type": "code",
   "execution_count": 38,
   "metadata": {
    "execution": {
     "iopub.execute_input": "2024-02-18T14:19:42.807787Z",
     "iopub.status.busy": "2024-02-18T14:19:42.807398Z",
     "iopub.status.idle": "2024-02-18T14:19:42.823306Z",
     "shell.execute_reply": "2024-02-18T14:19:42.821795Z",
     "shell.execute_reply.started": "2024-02-18T14:19:42.807761Z"
    }
   },
   "outputs": [],
   "source": [
    "# Compile the model\n",
    "model.compile(\n",
    "    optimizer='adam',\n",
    "    loss='categorical_crossentropy',\n",
    "    metrics=['acc'],\n",
    ")\n",
    "\n",
    "# Define early stopping callback\n",
    "early_stopping = callbacks.EarlyStopping(\n",
    "    min_delta = 0.0001,\n",
    "    patience = 25,\n",
    "    restore_best_weights = True\n",
    ")"
   ]
  },
  {
   "cell_type": "code",
   "execution_count": 39,
   "metadata": {
    "execution": {
     "iopub.execute_input": "2024-02-18T14:19:49.597920Z",
     "iopub.status.busy": "2024-02-18T14:19:49.597495Z",
     "iopub.status.idle": "2024-02-18T14:22:07.841736Z",
     "shell.execute_reply": "2024-02-18T14:22:07.840336Z",
     "shell.execute_reply.started": "2024-02-18T14:19:49.597892Z"
    }
   },
   "outputs": [
    {
     "name": "stdout",
     "output_type": "stream",
     "text": [
      "Epoch 1/50\n",
      "196/196 [==============================] - 6s 24ms/step - loss: 0.4231 - acc: 0.8716 - val_loss: 0.1547 - val_acc: 0.9552\n",
      "Epoch 2/50\n",
      "196/196 [==============================] - 4s 22ms/step - loss: 0.1732 - acc: 0.9477 - val_loss: 0.1192 - val_acc: 0.9649\n",
      "Epoch 3/50\n",
      "196/196 [==============================] - 4s 22ms/step - loss: 0.1289 - acc: 0.9602 - val_loss: 0.1216 - val_acc: 0.9680\n",
      "Epoch 4/50\n",
      "196/196 [==============================] - 4s 22ms/step - loss: 0.0956 - acc: 0.9701 - val_loss: 0.1227 - val_acc: 0.9711\n",
      "Epoch 5/50\n",
      "196/196 [==============================] - 4s 20ms/step - loss: 0.0826 - acc: 0.9735 - val_loss: 0.1258 - val_acc: 0.9736\n",
      "Epoch 6/50\n",
      "196/196 [==============================] - 4s 22ms/step - loss: 0.0692 - acc: 0.9778 - val_loss: 0.1235 - val_acc: 0.9746\n",
      "Epoch 7/50\n",
      "196/196 [==============================] - 4s 20ms/step - loss: 0.0561 - acc: 0.9814 - val_loss: 0.1190 - val_acc: 0.9770\n",
      "Epoch 8/50\n",
      "196/196 [==============================] - 4s 20ms/step - loss: 0.0526 - acc: 0.9828 - val_loss: 0.1160 - val_acc: 0.9766\n",
      "Epoch 9/50\n",
      "196/196 [==============================] - 4s 19ms/step - loss: 0.0420 - acc: 0.9868 - val_loss: 0.1260 - val_acc: 0.9778\n",
      "Epoch 10/50\n",
      "196/196 [==============================] - 4s 21ms/step - loss: 0.0422 - acc: 0.9860 - val_loss: 0.1308 - val_acc: 0.9771\n",
      "Epoch 11/50\n",
      "196/196 [==============================] - 4s 21ms/step - loss: 0.0401 - acc: 0.9868 - val_loss: 0.1402 - val_acc: 0.9772\n",
      "Epoch 12/50\n",
      "196/196 [==============================] - 4s 21ms/step - loss: 0.0344 - acc: 0.9886 - val_loss: 0.1357 - val_acc: 0.9782\n",
      "Epoch 13/50\n",
      "196/196 [==============================] - 4s 21ms/step - loss: 0.0314 - acc: 0.9897 - val_loss: 0.1398 - val_acc: 0.9780\n",
      "Epoch 14/50\n",
      "196/196 [==============================] - 4s 21ms/step - loss: 0.0280 - acc: 0.9907 - val_loss: 0.1305 - val_acc: 0.9773\n",
      "Epoch 15/50\n",
      "196/196 [==============================] - 4s 22ms/step - loss: 0.0255 - acc: 0.9913 - val_loss: 0.1249 - val_acc: 0.9785\n",
      "Epoch 16/50\n",
      "196/196 [==============================] - 4s 21ms/step - loss: 0.0254 - acc: 0.9917 - val_loss: 0.1363 - val_acc: 0.9783\n",
      "Epoch 17/50\n",
      "196/196 [==============================] - 4s 21ms/step - loss: 0.0277 - acc: 0.9910 - val_loss: 0.1409 - val_acc: 0.9791\n",
      "Epoch 18/50\n",
      "196/196 [==============================] - 4s 21ms/step - loss: 0.0258 - acc: 0.9914 - val_loss: 0.1462 - val_acc: 0.9783\n",
      "Epoch 19/50\n",
      "196/196 [==============================] - 4s 21ms/step - loss: 0.0245 - acc: 0.9918 - val_loss: 0.1739 - val_acc: 0.9795\n",
      "Epoch 20/50\n",
      "196/196 [==============================] - 5s 23ms/step - loss: 0.0202 - acc: 0.9933 - val_loss: 0.1680 - val_acc: 0.9783\n",
      "Epoch 21/50\n",
      "196/196 [==============================] - 4s 20ms/step - loss: 0.0216 - acc: 0.9928 - val_loss: 0.1571 - val_acc: 0.9787\n",
      "Epoch 22/50\n",
      "196/196 [==============================] - 4s 21ms/step - loss: 0.0208 - acc: 0.9931 - val_loss: 0.1482 - val_acc: 0.9786\n",
      "Epoch 23/50\n",
      "196/196 [==============================] - 4s 20ms/step - loss: 0.0186 - acc: 0.9939 - val_loss: 0.1752 - val_acc: 0.9799\n",
      "Epoch 24/50\n",
      "196/196 [==============================] - 4s 20ms/step - loss: 0.0177 - acc: 0.9941 - val_loss: 0.1748 - val_acc: 0.9800\n",
      "Epoch 25/50\n",
      "196/196 [==============================] - 4s 21ms/step - loss: 0.0168 - acc: 0.9938 - val_loss: 0.1774 - val_acc: 0.9796\n",
      "Epoch 26/50\n",
      "196/196 [==============================] - 4s 20ms/step - loss: 0.0167 - acc: 0.9944 - val_loss: 0.1618 - val_acc: 0.9802\n",
      "Epoch 27/50\n",
      "196/196 [==============================] - 4s 20ms/step - loss: 0.0178 - acc: 0.9940 - val_loss: 0.1672 - val_acc: 0.9802\n",
      "Epoch 28/50\n",
      "196/196 [==============================] - 4s 20ms/step - loss: 0.0177 - acc: 0.9941 - val_loss: 0.1545 - val_acc: 0.9796\n",
      "Epoch 29/50\n",
      "196/196 [==============================] - 4s 21ms/step - loss: 0.0151 - acc: 0.9955 - val_loss: 0.1620 - val_acc: 0.9812\n",
      "Epoch 30/50\n",
      "196/196 [==============================] - 4s 21ms/step - loss: 0.0142 - acc: 0.9955 - val_loss: 0.1787 - val_acc: 0.9806\n",
      "Epoch 31/50\n",
      "196/196 [==============================] - 4s 22ms/step - loss: 0.0118 - acc: 0.9966 - val_loss: 0.1668 - val_acc: 0.9795\n",
      "Epoch 32/50\n",
      "196/196 [==============================] - 4s 22ms/step - loss: 0.0131 - acc: 0.9957 - val_loss: 0.1765 - val_acc: 0.9790\n",
      "Epoch 33/50\n",
      "196/196 [==============================] - 4s 20ms/step - loss: 0.0165 - acc: 0.9946 - val_loss: 0.1593 - val_acc: 0.9791\n"
     ]
    },
    {
     "data": {
      "text/plain": [
       "<Axes: title={'center': 'Accuracy'}>"
      ]
     },
     "execution_count": 39,
     "metadata": {},
     "output_type": "execute_result"
    },
    {
     "data": {
      "image/png": "[encoded data removed]",
      "text/plain": [
       "<Figure size 640x480 with 1 Axes>"
      ]
     },
     "metadata": {},
     "output_type": "display_data"
    },
    {
     "data": {
      "image/png": "[encoded data removed]",
      "text/plain": [
       "<Figure size 640x480 with 1 Axes>"
      ]
     },
     "metadata": {},
     "output_type": "display_data"
    }
   ],
   "source": [
    "# Train the model\n",
    "history = model.fit(\n",
    "    X_train, y_train, \n",
    "    epochs=50, \n",
    "    batch_size=250,\n",
    "    validation_data=(X_val, y_val),\n",
    "    callbacks=[early_stopping],\n",
    ")\n",
    "\n",
    "history_df = pd.DataFrame(history.history)\n",
    "history_df.loc[:, ['loss', 'val_loss']].plot(title=\"Cross-entropy\")\n",
    "history_df.loc[:, ['acc', 'val_acc']].plot(title=\"Accuracy\")"
   ]
  }
 ],
 "metadata": {
  "kaggle": {
   "accelerator": "none",
   "dataSources": [
    {
     "datasetId": 27352,
     "sourceId": 34877,
     "sourceType": "datasetVersion"
    }
   ],
   "dockerImageVersionId": 30646,
   "isGpuEnabled": false,
   "isInternetEnabled": true,
   "language": "python",
   "sourceType": "notebook"
  },
  "kernelspec": {
   "display_name": "Python 3 (ipykernel)",
   "language": "python",
   "name": "python3"
  },
  "language_info": {
   "codemirror_mode": {
    "name": "ipython",
    "version": 3
   },
   "file_extension": ".py",
   "mimetype": "text/x-python",
   "name": "python",
   "nbconvert_exporter": "python",
   "pygments_lexer": "ipython3",
   "version": "3.7.6"
  }
 },
 "nbformat": 4,
 "nbformat_minor": 4
}
